{
 "cells": [
  {
   "cell_type": "code",
   "execution_count": 5,
   "id": "44d3ebf4",
   "metadata": {},
   "outputs": [
    {
     "name": "stdout",
     "output_type": "stream",
     "text": [
      " * Serving Flask app \"__main__\" (lazy loading)\n",
      " * Environment: production\n",
      "   WARNING: This is a development server. Do not use it in a production deployment.\n",
      "   Use a production WSGI server instead.\n",
      " * Debug mode: off\n"
     ]
    },
    {
     "name": "stderr",
     "output_type": "stream",
     "text": [
      " * Running on http://127.0.0.1:5000/ (Press CTRL+C to quit)\n"
     ]
    },
    {
     "name": "stdout",
     "output_type": "stream",
     "text": [
      " * Running on http://5661c701bbf3.ngrok.io\n",
      " * Traffic stats available on http://127.0.0.1:4040\n"
     ]
    },
    {
     "name": "stderr",
     "output_type": "stream",
     "text": [
      "127.0.0.1 - - [09/Jun/2021 14:52:26] \"\u001b[37mGET / HTTP/1.1\u001b[0m\" 200 -\n"
     ]
    }
   ],
   "source": [
    "from collections import OrderedDict\n",
    "\n",
    "import binascii\n",
    "\n",
    "import Crypto\n",
    "import Crypto.Random\n",
    "from flask_ngrok import run_with_ngrok\n",
    "from Crypto.Hash import SHA\n",
    "from Crypto.PublicKey import RSA\n",
    "from Crypto.Signature import PKCS1_v1_5\n",
    "\n",
    "import requests\n",
    "from flask import Flask, jsonify, request, render_template\n",
    "\n",
    "\n",
    "class Transaction:\n",
    "\n",
    "    def __init__(self, sender_address, sender_private_key, recipient_address, value):\n",
    "        self.sender_address = sender_address\n",
    "        self.sender_private_key = sender_private_key\n",
    "        self.recipient_address = recipient_address\n",
    "        self.value = value\n",
    "\n",
    "    def __getattr__(self, attr):\n",
    "        return self.data[attr]\n",
    "\n",
    "    def to_dict(self):\n",
    "        return OrderedDict({'sender_address': self.sender_address,\n",
    "                            'recipient_address': self.recipient_address,\n",
    "                            'value': self.value})\n",
    "\n",
    "    def sign_transaction(self):\n",
    "        \"\"\"\n",
    "        Sign transaction with private key\n",
    "        \"\"\"\n",
    "        private_key = RSA.importKey(binascii.unhexlify(self.sender_private_key))\n",
    "        signer = PKCS1_v1_5.new(private_key)\n",
    "        h = SHA.new(str(self.to_dict()).encode('utf8'))\n",
    "        return binascii.hexlify(signer.sign(h)).decode('ascii')\n",
    "\n",
    "\n",
    "\n",
    "app = Flask(__name__)\n",
    "\n",
    "run_with_ngrok(app)\n",
    "# CORS(app)\n",
    "\n",
    "@app.route('/')\n",
    "def index():\n",
    "\treturn render_template('./index.html')\n",
    "\n",
    "@app.route('/make/transaction')\n",
    "def make_transaction():\n",
    "    return render_template('./make_transaction.html')\n",
    "\n",
    "@app.route('/view/transactions')\n",
    "def view_transaction():\n",
    "    return render_template('./view_transactions.html')\n",
    "\n",
    "@app.route('/wallet/new', methods=['GET'])\n",
    "def new_wallet():\n",
    "\trandom_gen = Crypto.Random.new().read\n",
    "\tprivate_key = RSA.generate(1024, random_gen)\n",
    "\tpublic_key = private_key.publickey()\n",
    "\tresponse = {\n",
    "\t\t'private_key': binascii.hexlify(private_key.exportKey(format='DER')).decode('ascii'),\n",
    "\t\t'public_key': binascii.hexlify(public_key.exportKey(format='DER')).decode('ascii')\n",
    "\t}\n",
    "\n",
    "\treturn jsonify(response), 200\n",
    "\n",
    "@app.route('/generate/transaction', methods=['POST'])\n",
    "def generate_transaction():\n",
    "\t\n",
    "\tsender_address = request.form['sender_address']\n",
    "\tsender_private_key = request.form['sender_private_key']\n",
    "\trecipient_address = request.form['recipient_address']\n",
    "\tvalue = request.form['amount']\n",
    "\n",
    "\ttransaction = Transaction(sender_address, sender_private_key, recipient_address, value)\n",
    "\n",
    "\tresponse = {'transaction': transaction.to_dict(), 'signature': transaction.sign_transaction()}\n",
    "\n",
    "\treturn jsonify(response), 200\n",
    "\n",
    "\n",
    "if __name__ == '__main__':\n",
    "    from argparse import ArgumentParser\n",
    "\n",
    "    parser = ArgumentParser()\n",
    "    parser.add_argument('-p', '--port', default=5000, type=int, help='port to listen on')\n",
    "#     args = parser.parse_args()\n",
    "    args, unknown = parser.parse_known_args()\n",
    "    port = args.port\n",
    "\n",
    "    app.run()"
   ]
  },
  {
   "cell_type": "code",
   "execution_count": null,
   "id": "e52b91ba",
   "metadata": {},
   "outputs": [],
   "source": []
  }
 ],
 "metadata": {
  "kernelspec": {
   "display_name": "Python 3",
   "language": "python",
   "name": "python3"
  },
  "language_info": {
   "codemirror_mode": {
    "name": "ipython",
    "version": 3
   },
   "file_extension": ".py",
   "mimetype": "text/x-python",
   "name": "python",
   "nbconvert_exporter": "python",
   "pygments_lexer": "ipython3",
   "version": "3.8.8"
  }
 },
 "nbformat": 4,
 "nbformat_minor": 5
}
